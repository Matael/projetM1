{
 "cells": [
  {
   "cell_type": "markdown",
   "metadata": {},
   "source": [
    "Meta-programming : Function mult.\n",
    "================================="
   ]
  },
  {
   "cell_type": "code",
   "execution_count": 2,
   "metadata": {
    "collapsed": false
   },
   "outputs": [
    {
     "data": {
      "text/plain": [
       "mulfun =\r\n",
       "\r\n",
       "@(f, g) @(x) f (x) * g (x)\r\n",
       "\r\n"
      ]
     },
     "execution_count": 2,
     "metadata": {},
     "output_type": "execute_result"
    }
   ],
   "source": [
    "f1 = @(x) x^2\n",
    "f2 = @(x) 2*x\n",
    "mulfun = @(f,g) @(x) f(x)*g(x)"
   ]
  },
  {
   "cell_type": "code",
   "execution_count": 3,
   "metadata": {
    "collapsed": false
   },
   "outputs": [
    {
     "data": {
      "text/plain": [
       "f3 =\r\n",
       "\r\n",
       "@(x) f (x) * g (x)\r\n",
       "\r\n"
      ]
     },
     "execution_count": 3,
     "metadata": {},
     "output_type": "execute_result"
    }
   ],
   "source": [
    "f3 = mulfun(f1,f2)"
   ]
  },
  {
   "cell_type": "code",
   "execution_count": 4,
   "metadata": {
    "collapsed": false
   },
   "outputs": [
    {
     "data": {
      "text/plain": [
       "ans =  16\r\n"
      ]
     },
     "execution_count": 4,
     "metadata": {},
     "output_type": "execute_result"
    }
   ],
   "source": [
    "f3(2)"
   ]
  },
  {
   "cell_type": "markdown",
   "metadata": {},
   "source": [
    "Intégration Numérique (Points de Gauss)\n",
    "===================="
   ]
  },
  {
   "cell_type": "code",
   "execution_count": 22,
   "metadata": {
    "collapsed": false
   },
   "outputs": [
    {
     "data": {},
     "execution_count": 22,
     "metadata": {},
     "output_type": "execute_result"
    }
   ],
   "source": [
    "function [I] = intg_formfun(fun,a,b)\n",
    "    n_pg = 4\n",
    "\n",
    "    points_gauss(1)= 0.339981043584856;\n",
    "    points_gauss(2)=-0.339981043584856;\n",
    "    points_gauss(3)= 0.861136311594053;\n",
    "    points_gauss(4)=-0.861136311594053;\n",
    "\n",
    "    weight_gauss(1)=0.652145154862546;\n",
    "    weight_gauss(2)=0.652145154862546;\n",
    "    weight_gauss(3)=0.347854845137454;\n",
    "    weight_gauss(4)=0.347854845137454;\n",
    "\n",
    "    I = 0;\n",
    "    h = b-a;\n",
    "    for i_pg=1:n_pg\n",
    "        xi=points_gauss(i_pg);\n",
    "\n",
    "        I = I + fun((b-a)/2*xi+(a+b)/2)*weight_gauss(i_pg);\n",
    "    end\n",
    "\n",
    "    I = I*h/2;\n",
    "end\n"
   ]
  },
  {
   "cell_type": "code",
   "execution_count": 28,
   "metadata": {
    "collapsed": false
   },
   "outputs": [
    {
     "data": {},
     "execution_count": 28,
     "metadata": {},
     "output_type": "execute_result"
    }
   ],
   "source": [
    "h = 1;\n",
    "phi1 = @(x) ((h-2*x)*(h-x))/(h^2);\n",
    "phi2 = @(x) -4*x*(x-h)/h^2;\n",
    "phi3 = @(x) x*(2*x-h)/h^2;"
   ]
  },
  {
   "cell_type": "code",
   "execution_count": 32,
   "metadata": {
    "collapsed": false
   },
   "outputs": [
    {
     "data": {
      "text/plain": [
       "n_pg =  4\r\n",
       "I_phi1_2 =  0.13333\r\n"
      ]
     },
     "execution_count": 32,
     "metadata": {},
     "output_type": "execute_result"
    }
   ],
   "source": [
    "I_phi1_2 = intg_formfun(mulfun(phi1, phi1), 0,1)"
   ]
  },
  {
   "cell_type": "code",
   "execution_count": 33,
   "metadata": {
    "collapsed": false
   },
   "outputs": [
    {
     "data": {
      "text/plain": [
       "ans =  0.13333\r\n"
      ]
     },
     "execution_count": 33,
     "metadata": {},
     "output_type": "execute_result"
    }
   ],
   "source": [
    "2/15"
   ]
  },
  {
   "cell_type": "code",
   "execution_count": null,
   "metadata": {
    "collapsed": true
   },
   "outputs": [],
   "source": []
  }
 ],
 "metadata": {
  "kernelspec": {
   "display_name": "Octave",
   "language": "octave",
   "name": "octave_kernel"
  },
  "language_info": {
   "file_extension": ".m",
   "help_links": [
    {
     "text": "MetaKernel Magics",
     "url": "https://github.com/calysto/metakernel/blob/master/metakernel/magics/README.md"
    }
   ],
   "mimetype": "text/x-octave",
   "name": "octave_kernel"
  }
 },
 "nbformat": 4,
 "nbformat_minor": 0
}
